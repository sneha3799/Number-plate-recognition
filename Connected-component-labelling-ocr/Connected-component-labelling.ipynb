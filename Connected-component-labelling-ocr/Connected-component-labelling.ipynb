{
 "cells": [
  {
   "cell_type": "code",
   "execution_count": 1,
   "metadata": {},
   "outputs": [],
   "source": [
    "import argparse\n",
    "import cv2\n",
    "import numpy as np"
   ]
  },
  {
   "cell_type": "code",
   "execution_count": 12,
   "metadata": {},
   "outputs": [],
   "source": [
    "img = cv2.imread('test1.jpg')\n",
    "gray = cv2.cvtColor(img,cv2.COLOR_BGR2GRAY)\n",
    "thresh = cv2.threshold(gray,128,255,cv2.THRESH_BINARY_INV | cv2.THRESH_OTSU)[1]"
   ]
  },
  {
   "cell_type": "code",
   "execution_count": 13,
   "metadata": {},
   "outputs": [
    {
     "data": {
      "text/plain": [
       "-1"
      ]
     },
     "execution_count": 13,
     "metadata": {},
     "output_type": "execute_result"
    }
   ],
   "source": [
    "cv2.imshow('thresh',thresh)\n",
    "cv2.waitKey(0)"
   ]
  },
  {
   "cell_type": "code",
   "execution_count": 14,
   "metadata": {},
   "outputs": [],
   "source": [
    "output = cv2.connectedComponentsWithStats(thresh,4,cv2.CV_32S)\n",
    "(numLabels, labels, stats, centroids) = output"
   ]
  },
  {
   "cell_type": "code",
   "execution_count": 15,
   "metadata": {},
   "outputs": [
    {
     "name": "stdout",
     "output_type": "stream",
     "text": [
      "[INFO] examining component 1/24 (background)\n",
      "[INFO] examining component 2/24\n",
      "[INFO] examining component 3/24\n",
      "[INFO] examining component 4/24\n",
      "[INFO] examining component 5/24\n",
      "[INFO] examining component 6/24\n",
      "[INFO] examining component 7/24\n",
      "[INFO] examining component 8/24\n",
      "[INFO] examining component 9/24\n",
      "[INFO] examining component 10/24\n",
      "[INFO] examining component 11/24\n",
      "[INFO] examining component 12/24\n",
      "[INFO] examining component 13/24\n",
      "[INFO] examining component 14/24\n",
      "[INFO] examining component 15/24\n",
      "[INFO] examining component 16/24\n",
      "[INFO] examining component 17/24\n",
      "[INFO] examining component 18/24\n",
      "[INFO] examining component 19/24\n",
      "[INFO] examining component 20/24\n",
      "[INFO] examining component 21/24\n",
      "[INFO] examining component 22/24\n",
      "[INFO] examining component 23/24\n",
      "[INFO] examining component 24/24\n"
     ]
    }
   ],
   "source": [
    "# loop over the number of unique connected component labels\n",
    "for i in range(0, numLabels):\n",
    "    # if this is the first component then we examine the\n",
    "    # *background* (typically we would just ignore this\n",
    "    # component in our loop)\n",
    "    if i == 0:\n",
    "        text = \"examining component {}/{} (background)\".format(i + 1, numLabels)\n",
    "    # otherwise, we are examining an actual connected component\n",
    "    else:\n",
    "        text = \"examining component {}/{}\".format( i + 1, numLabels)\n",
    "    # print a status message update for the current connected\n",
    "    # component\n",
    "    print(\"[INFO] {}\".format(text))\n",
    "    # extract the connected component statistics and centroid for\n",
    "    # the current label\n",
    "    x = stats[i, cv2.CC_STAT_LEFT]\n",
    "    y = stats[i, cv2.CC_STAT_TOP]\n",
    "    w = stats[i, cv2.CC_STAT_WIDTH]\n",
    "    h = stats[i, cv2.CC_STAT_HEIGHT]\n",
    "    area = stats[i, cv2.CC_STAT_AREA]\n",
    "    (cX, cY) = centroids[i]"
   ]
  },
  {
   "cell_type": "code",
   "execution_count": 16,
   "metadata": {},
   "outputs": [
    {
     "data": {
      "text/plain": [
       "array([[[255, 255, 255],\n",
       "        [255, 255, 255],\n",
       "        [255, 255, 255],\n",
       "        ...,\n",
       "        [255, 255, 255],\n",
       "        [255, 255, 255],\n",
       "        [255, 255, 255]],\n",
       "\n",
       "       [[255, 255, 255],\n",
       "        [255, 255, 255],\n",
       "        [255, 255, 255],\n",
       "        ...,\n",
       "        [255, 255, 255],\n",
       "        [255, 255, 255],\n",
       "        [255, 255, 255]],\n",
       "\n",
       "       [[255, 255, 255],\n",
       "        [255, 255, 255],\n",
       "        [255, 255, 255],\n",
       "        ...,\n",
       "        [255, 255, 255],\n",
       "        [255, 255, 255],\n",
       "        [255, 255, 255]],\n",
       "\n",
       "       ...,\n",
       "\n",
       "       [[255, 255, 255],\n",
       "        [255, 255, 255],\n",
       "        [255, 255, 255],\n",
       "        ...,\n",
       "        [255, 255, 255],\n",
       "        [255, 255, 255],\n",
       "        [255, 255, 255]],\n",
       "\n",
       "       [[255, 255, 255],\n",
       "        [255, 255, 255],\n",
       "        [255, 255, 255],\n",
       "        ...,\n",
       "        [255, 255, 255],\n",
       "        [255, 255, 255],\n",
       "        [255, 255, 255]],\n",
       "\n",
       "       [[255, 255, 255],\n",
       "        [255, 255, 255],\n",
       "        [255, 255, 255],\n",
       "        ...,\n",
       "        [255, 255, 255],\n",
       "        [255, 255, 255],\n",
       "        [255, 255, 255]]], dtype=uint8)"
      ]
     },
     "execution_count": 16,
     "metadata": {},
     "output_type": "execute_result"
    }
   ],
   "source": [
    "output = img.copy()\n",
    "cv2.rectangle(output, (x, y), (x + w, y + h), (0, 255, 0), 3)\n",
    "cv2.circle(output, (int(cX), int(cY)), 4, (0, 0, 255), -1)"
   ]
  },
  {
   "cell_type": "code",
   "execution_count": 17,
   "metadata": {},
   "outputs": [
    {
     "data": {
      "text/plain": [
       "-1"
      ]
     },
     "execution_count": 17,
     "metadata": {},
     "output_type": "execute_result"
    }
   ],
   "source": [
    "# construct a mask for the current connected component by\n",
    "# finding a pixels in the labels array that have the current\n",
    "# connected component ID\n",
    "componentMask = (labels == i).astype(\"uint8\") * 255\n",
    "# show our output image and connected component mask\n",
    "cv2.imshow(\"Output\", output)\n",
    "cv2.imshow(\"Connected Component\", componentMask)\n",
    "cv2.waitKey(0)"
   ]
  },
  {
   "cell_type": "code",
   "execution_count": 18,
   "metadata": {},
   "outputs": [],
   "source": [
    "import numpy as np"
   ]
  },
  {
   "cell_type": "code",
   "execution_count": 19,
   "metadata": {},
   "outputs": [],
   "source": [
    "# load the input image from disk, convert it to grayscale, and\n",
    "# threshold it\n",
    "# img = cv2.imread(args[\"image\"])\n",
    "# gray = cv2.cvtColor(image, cv2.COLOR_BGR2GRAY)\n",
    "# thresh = cv2.threshold(gray, 0, 255,cv2.THRESH_BINARY_INV | cv2.THRESH_OTSU)[1]\n",
    "# apply connected component analysis to the thresholded image\n",
    "# output = cv2.connectedComponentsWithStats(thresh, args[\"connectivity\"], cv2.CV_32S)\n",
    "# (numLabels, labels, stats, centroids) = output\n",
    "# initialize an output mask to store all characters parsed from\n",
    "# the license plate\n",
    "\n",
    "mask = np.zeros(gray.shape, dtype=\"uint8\")"
   ]
  },
  {
   "cell_type": "code",
   "execution_count": 20,
   "metadata": {},
   "outputs": [
    {
     "name": "stdout",
     "output_type": "stream",
     "text": [
      "[INFO] keeping connected component '2'\n",
      "[INFO] keeping connected component '3'\n",
      "[INFO] keeping connected component '4'\n",
      "[INFO] keeping connected component '5'\n",
      "[INFO] keeping connected component '6'\n",
      "[INFO] keeping connected component '7'\n",
      "[INFO] keeping connected component '8'\n",
      "[INFO] keeping connected component '9'\n",
      "[INFO] keeping connected component '10'\n"
     ]
    }
   ],
   "source": [
    "# loop over the number of unique connected component labels, skipping\n",
    "# over the first label (as label zero is the background)\n",
    "for i in range(1, numLabels):\n",
    "    # extract the connected component statistics for the current\n",
    "    # label\n",
    "    x = stats[i, cv2.CC_STAT_LEFT]\n",
    "    y = stats[i, cv2.CC_STAT_TOP]\n",
    "    w = stats[i, cv2.CC_STAT_WIDTH]\n",
    "    h = stats[i, cv2.CC_STAT_HEIGHT]\n",
    "    area = stats[i, cv2.CC_STAT_AREA]\n",
    "    \n",
    "    # ensure the width, height, and area are all neither too small\n",
    "    # nor too big\n",
    "    keepWidth = w > 10 and w < 500\n",
    "    keepHeight = h > 70 and h < 500\n",
    "    keepArea = area > 100 and area < 15000\n",
    "    # ensure the connected component we are examining passes all\n",
    "    # three tests\n",
    "    if all((keepWidth, keepHeight, keepArea)):\n",
    "        # construct a mask for the current connected component and\n",
    "        # then take the bitwise OR with the mask\n",
    "        print(\"[INFO] keeping connected component '{}'\".format(i))\n",
    "        componentMask = (labels == i).astype(\"uint8\") * 255\n",
    "        mask = cv2.bitwise_or(mask, componentMask)"
   ]
  },
  {
   "cell_type": "code",
   "execution_count": 21,
   "metadata": {},
   "outputs": [],
   "source": [
    "# show the original input image and the mask for the license plate\n",
    "# characters\n",
    "cv2.imshow(\"Image\", img)\n",
    "cv2.imshow(\"Characters\", mask)\n",
    "cv2.waitKey(0)\n",
    "cv2.destroyAllWindows()"
   ]
  },
  {
   "cell_type": "code",
   "execution_count": null,
   "metadata": {},
   "outputs": [],
   "source": []
  }
 ],
 "metadata": {
  "kernelspec": {
   "display_name": "Python 3",
   "language": "python",
   "name": "python3"
  },
  "language_info": {
   "codemirror_mode": {
    "name": "ipython",
    "version": 3
   },
   "file_extension": ".py",
   "mimetype": "text/x-python",
   "name": "python",
   "nbconvert_exporter": "python",
   "pygments_lexer": "ipython3",
   "version": "3.7.4"
  }
 },
 "nbformat": 4,
 "nbformat_minor": 2
}
