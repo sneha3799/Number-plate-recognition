{
 "cells": [
  {
   "cell_type": "code",
   "execution_count": 1,
   "metadata": {},
   "outputs": [
    {
     "name": "stderr",
     "output_type": "stream",
     "text": [
      "The syntax of the command is incorrect.\n"
     ]
    }
   ],
   "source": [
    "!nvcc --version|"
   ]
  },
  {
   "cell_type": "code",
   "execution_count": 2,
   "metadata": {},
   "outputs": [
    {
     "name": "stdout",
     "output_type": "stream",
     "text": [
      "Mon Nov 02 19:14:33 2020       \n",
      "+-----------------------------------------------------------------------------+\n",
      "| NVIDIA-SMI 456.71       Driver Version: 456.71       CUDA Version: 11.1     |\n",
      "|-------------------------------+----------------------+----------------------+\n",
      "| GPU  Name            TCC/WDDM | Bus-Id        Disp.A | Volatile Uncorr. ECC |\n",
      "| Fan  Temp  Perf  Pwr:Usage/Cap|         Memory-Usage | GPU-Util  Compute M. |\n",
      "|===============================+======================+======================|\n",
      "|   0  GeForce RTX 2070   WDDM  | 00000000:01:00.0 Off |                  N/A |\n",
      "| N/A   52C    P8     6W /  N/A |    578MiB /  8192MiB |      0%      Default |\n",
      "+-------------------------------+----------------------+----------------------+\n",
      "                                                                               \n",
      "+-----------------------------------------------------------------------------+\n",
      "| Processes:                                                                  |\n",
      "|  GPU   GI   CI        PID   Type   Process name                  GPU Memory |\n",
      "|        ID   ID                                                   Usage      |\n",
      "|=============================================================================|\n",
      "|    0   N/A  N/A      4180    C+G   ...cw5n1h2txyewy\\LockApp.exe    N/A      |\n",
      "|    0   N/A  N/A     10024    C+G   Insufficient Permissions        N/A      |\n",
      "|    0   N/A  N/A     14596    C+G   ...ge\\Application\\msedge.exe    N/A      |\n",
      "|    0   N/A  N/A     15404    C+G   ...ekyb3d8bbwe\\commsapps.exe    N/A      |\n",
      "|    0   N/A  N/A     15488    C+G   ...artMenuExperienceHost.exe    N/A      |\n",
      "|    0   N/A  N/A     18132    C+G   ...ekyb3d8bbwe\\YourPhone.exe    N/A      |\n",
      "|    0   N/A  N/A     20288    C+G   ...es.TextInput.InputApp.exe    N/A      |\n",
      "|    0   N/A  N/A     21868    C+G   ...4__8wekyb3d8bbwe\\Time.exe    N/A      |\n",
      "+-----------------------------------------------------------------------------+\n"
     ]
    }
   ],
   "source": [
    "!nvidia-smi"
   ]
  },
  {
   "cell_type": "code",
   "execution_count": 6,
   "metadata": {},
   "outputs": [
    {
     "name": "stderr",
     "output_type": "stream",
     "text": [
      "Cloning into 'darknet'...\n"
     ]
    }
   ],
   "source": [
    "!git clone https://github.com/roboflow-ai/darknet.git"
   ]
  },
  {
   "cell_type": "code",
   "execution_count": 1,
   "metadata": {},
   "outputs": [
    {
     "name": "stdout",
     "output_type": "stream",
     "text": [
      "D:\\Datasets\\Soft Computing\\darknet\n"
     ]
    }
   ],
   "source": [
    "%cd darknet"
   ]
  },
  {
   "cell_type": "code",
   "execution_count": 11,
   "metadata": {},
   "outputs": [],
   "source": [
    "!sed -i 's/OPENCV=0/OPENCV=1/' Makefile\n",
    "!sed -i 's/GPU=0/GPU=1/' Makefile\n",
    "!sed -i 's/CUDNN=0/CUDNN=1/' Makefile"
   ]
  },
  {
   "cell_type": "code",
   "execution_count": 2,
   "metadata": {},
   "outputs": [
    {
     "name": "stderr",
     "output_type": "stream",
     "text": [
      "'cat' is not recognized as an internal or external command,\n",
      "operable program or batch file.\n"
     ]
    }
   ],
   "source": [
    "!cat Makefile"
   ]
  },
  {
   "cell_type": "code",
   "execution_count": 1,
   "metadata": {},
   "outputs": [],
   "source": [
    "with open('data/obj.data', 'w') as out:\n",
    "  out.write('classes = 2\\n')\n",
    "  out.write('train = data/train.txt\\n')\n",
    "  out.write('valid = data/valid.txt\\n')\n",
    "  out.write('names = data/obj.names\\n')\n",
    "  out.write('backup = backup/')"
   ]
  },
  {
   "cell_type": "code",
   "execution_count": 2,
   "metadata": {},
   "outputs": [],
   "source": [
    "#write train file (just the image list)\n",
    "import os\n"
   ]
  },
  {
   "cell_type": "code",
   "execution_count": 4,
   "metadata": {},
   "outputs": [
    {
     "name": "stdout",
     "output_type": "stream",
     "text": [
      "D:\\ProjectFiles\\NumberPlateDetection\\darknet\n"
     ]
    }
   ],
   "source": [
    "%cd darknet\n",
    "with open('data/train.txt', 'w') as out:\n",
    "  for img in [f for f in os.listdir('./data/obj') if f.endswith('jpg')]:\n",
    "    out.write('data/obj/' + img + '\\n')\n"
   ]
  },
  {
   "cell_type": "code",
   "execution_count": 5,
   "metadata": {},
   "outputs": [
    {
     "name": "stdout",
     "output_type": "stream",
     "text": [
      "writing config for a custom YOLOv4 detector detecting number of classes: 2\n",
      "file is written!\n"
     ]
    }
   ],
   "source": [
    "#we build config dynamically based on number of classes\n",
    "#we build iteratively from base config files. This is the same file shape as cfg/yolo-obj.cfg\n",
    "def file_len(fname):\n",
    "  with open(fname) as f:\n",
    "    for i, l in enumerate(f):\n",
    "      pass\n",
    "  return i + 1\n",
    "\n",
    "num_classes = file_len('train/_darknet.labels')\n",
    "print(\"writing config for a custom YOLOv4 detector detecting number of classes: \" + str(num_classes))\n",
    "\n",
    "#Instructions from the darknet repo\n",
    "#change line max_batches to (classes*2000 but not less than number of training images, and not less than 6000), f.e. max_batches=6000 if you train for 3 classes\n",
    "#change line steps to 80% and 90% of max_batches, f.e. steps=4800,5400\n",
    "if os.path.exists('./cfg/custom-yolov4-detector.cfg'): os.remove('./cfg/custom-yolov4-detector.cfg')\n",
    "\n",
    "\n",
    "with open('./cfg/custom-yolov4-detector.cfg', 'a') as f:\n",
    "  f.write('[net]' + '\\n')\n",
    "  f.write('batch=64' + '\\n')\n",
    "  #####smaller subdivisions help the GPU run faster. 12 is optimal, but you might need to change to 24,36,64####\n",
    "  f.write('subdivisions=24' + '\\n')\n",
    "  f.write('width=416' + '\\n')\n",
    "  f.write('height=416' + '\\n')\n",
    "  f.write('channels=3' + '\\n')\n",
    "  f.write('momentum=0.949' + '\\n')\n",
    "  f.write('decay=0.0005' + '\\n')\n",
    "  f.write('angle=0' + '\\n')\n",
    "  f.write('saturation = 1.5' + '\\n')\n",
    "  f.write('exposure = 1.5' + '\\n')\n",
    "  f.write('hue = .1' + '\\n')\n",
    "  f.write('\\n')\n",
    "  f.write('learning_rate=0.001' + '\\n')\n",
    "  f.write('burn_in=1000' + '\\n')\n",
    "  ######you can adjust up and down to change training time#####\n",
    "  ##Darknet does iterations with batches, not epochs####\n",
    "  max_batches = num_classes*2000\n",
    "  #max_batches = 2000\n",
    "  f.write('max_batches=' + str(max_batches) + '\\n')\n",
    "  f.write('policy=steps' + '\\n')\n",
    "  steps1 = .8 * max_batches\n",
    "  steps2 = .9 * max_batches\n",
    "  f.write('steps='+str(steps1)+','+str(steps2) + '\\n')\n",
    "\n",
    "#Instructions from the darknet repo\n",
    "#change line classes=80 to your number of objects in each of 3 [yolo]-layers:\n",
    "#change [filters=255] to filters=(classes + 5)x3 in the 3 [convolutional] before each [yolo] layer, keep in mind that it only has to be the last [convolutional] before each of the [yolo] layers.\n",
    "\n",
    "  with open('cfg/yolov4-custom2.cfg', 'r') as f2:\n",
    "    content = f2.readlines()\n",
    "    for line in content:\n",
    "      f.write(line)    \n",
    "    num_filters = (num_classes + 5) * 3\n",
    "    f.write('filters='+str(num_filters) + '\\n')\n",
    "    f.write('activation=linear')\n",
    "    f.write('\\n')\n",
    "    f.write('\\n')\n",
    "    f.write('[yolo]' + '\\n')\n",
    "    f.write('mask = 0,1,2' + '\\n')\n",
    "    f.write('anchors = 12, 16, 19, 36, 40, 28, 36, 75, 76, 55, 72, 146, 142, 110, 192, 243, 459, 401' + '\\n')\n",
    "    f.write('classes=' + str(num_classes) + '\\n')\n",
    "\n",
    "  with open('cfg/yolov4-custom3.cfg', 'r') as f3:\n",
    "    content = f3.readlines()\n",
    "    for line in content:\n",
    "      f.write(line)    \n",
    "    num_filters = (num_classes + 5) * 3\n",
    "    f.write('filters='+str(num_filters) + '\\n')\n",
    "    f.write('activation=linear')\n",
    "    f.write('\\n')\n",
    "    f.write('\\n')\n",
    "    f.write('[yolo]' + '\\n')\n",
    "    f.write('mask = 3,4,5' + '\\n')\n",
    "    f.write('anchors = 12, 16, 19, 36, 40, 28, 36, 75, 76, 55, 72, 146, 142, 110, 192, 243, 459, 401' + '\\n')\n",
    "    f.write('classes=' + str(num_classes) + '\\n')\n",
    "\n",
    "  with open('cfg/yolov4-custom4.cfg', 'r') as f4:\n",
    "    content = f4.readlines()\n",
    "    for line in content:\n",
    "      f.write(line)    \n",
    "    num_filters = (num_classes + 5) * 3\n",
    "    f.write('filters='+str(num_filters) + '\\n')\n",
    "    f.write('activation=linear')\n",
    "    f.write('\\n')\n",
    "    f.write('\\n')\n",
    "    f.write('[yolo]' + '\\n')\n",
    "    f.write('mask = 6,7,8' + '\\n')\n",
    "    f.write('anchors = 12, 16, 19, 36, 40, 28, 36, 75, 76, 55, 72, 146, 142, 110, 192, 243, 459, 401' + '\\n')\n",
    "    f.write('classes=' + str(num_classes) + '\\n')\n",
    "    \n",
    "  with open('cfg/yolov4-custom5.cfg', 'r') as f5:\n",
    "    content = f5.readlines()\n",
    "    for line in content:\n",
    "      f.write(line)\n",
    "\n",
    "print(\"file is written!\")    "
   ]
  },
  {
   "cell_type": "code",
   "execution_count": 6,
   "metadata": {},
   "outputs": [
    {
     "data": {
      "text/plain": [
       "2"
      ]
     },
     "execution_count": 6,
     "metadata": {},
     "output_type": "execute_result"
    }
   ],
   "source": [
    "num_classes"
   ]
  },
  {
   "cell_type": "code",
   "execution_count": 9,
   "metadata": {},
   "outputs": [],
   "source": [
    "with open('./cfg/custom-yolov4-detector.cfg', 'a') as f:\n",
    "    f.write('[net]' + '\\n')\n",
    "    f.write('batch=64' + '\\n')\n",
    "    #####smaller subdivisions help the GPU run faster. 12 is optimal, but you might need to change to 24,36,64####\n",
    "    f.write('subdivisions=24' + '\\n')\n",
    "    f.write('width=416' + '\\n')\n",
    "    f.write('height=416' + '\\n')\n",
    "    f.write('channels=3' + '\\n')\n",
    "    f.write('momentum=0.949' + '\\n')\n",
    "    f.write('decay=0.0005' + '\\n')\n",
    "    f.write('angle=0' + '\\n')\n",
    "    f.write('saturation = 1.5' + '\\n')\n",
    "    f.write('exposure = 1.5' + '\\n')\n",
    "    f.write('hue = .1' + '\\n')\n",
    "    f.write('\\n')\n",
    "    f.write('learning_rate=0.001' + '\\n')\n",
    "    f.write('burn_in=1000' + '\\n')\n",
    "    ######you can adjust up and down to change training time#####\n",
    "    ##Darknet does iterations with batches, not epochs####\n",
    "    max_batches = num_classes*2000\n",
    "    #max_batches = 2000\n",
    "    f.write('max_batches=' + str(max_batches) + '\\n')\n",
    "    f.write('policy=steps' + '\\n')\n",
    "    steps1 = .8 * max_batches\n",
    "    steps2 = .9 * max_batches\n",
    "    f.write('steps='+str(steps1)+','+str(steps2) + '\\n')"
   ]
  },
  {
   "cell_type": "code",
   "execution_count": 9,
   "metadata": {},
   "outputs": [
    {
     "name": "stderr",
     "output_type": "stream",
     "text": [
      "'cat' is not recognized as an internal or external command,\n",
      "operable program or batch file.\n"
     ]
    }
   ],
   "source": [
    "!cat cfg/custom-yolov4-detector.cfg"
   ]
  },
  {
   "cell_type": "code",
   "execution_count": 18,
   "metadata": {},
   "outputs": [
    {
     "name": "stdout",
     "output_type": "stream",
     "text": [
      "^C\n"
     ]
    }
   ],
   "source": [
    "!darknet.exe detector train data/obj.data cfg/custom-yolov4-detector.cfg yolov4.conv.137 -dont_show -map"
   ]
  },
  {
   "cell_type": "code",
   "execution_count": null,
   "metadata": {},
   "outputs": [],
   "source": []
  }
 ],
 "metadata": {
  "kernelspec": {
   "display_name": "Python 3",
   "language": "python",
   "name": "python3"
  },
  "language_info": {
   "codemirror_mode": {
    "name": "ipython",
    "version": 3
   },
   "file_extension": ".py",
   "mimetype": "text/x-python",
   "name": "python",
   "nbconvert_exporter": "python",
   "pygments_lexer": "ipython3",
   "version": "3.8.3"
  }
 },
 "nbformat": 4,
 "nbformat_minor": 4
}
