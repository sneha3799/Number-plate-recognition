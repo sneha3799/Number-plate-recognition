{
 "cells": [
  {
   "cell_type": "code",
   "execution_count": 26,
   "id": "deluxe-taiwan",
   "metadata": {},
   "outputs": [],
   "source": [
    "import os"
   ]
  },
  {
   "cell_type": "code",
   "execution_count": 31,
   "id": "substantial-albany",
   "metadata": {},
   "outputs": [],
   "source": [
    "files = [f for f in os.listdir('Vehicles/') if f.endswith('txt')]"
   ]
  },
  {
   "cell_type": "code",
   "execution_count": 32,
   "id": "confidential-wrestling",
   "metadata": {},
   "outputs": [],
   "source": [
    "for f in files:\n",
    "    with open('Vehicles/'+f,'r') as file:\n",
    "        into = open('modified_labels/'+f,'w')\n",
    "        for x in file.readlines():\n",
    "            modified = x.split()\n",
    "            modified[0] = '1'\n",
    "            modified = ' '.join(modified) + '\\n'\n",
    "            into.write(modified)\n",
    "        into.close()\n"
   ]
  },
  {
   "cell_type": "code",
   "execution_count": 33,
   "id": "united-hotel",
   "metadata": {},
   "outputs": [],
   "source": [
    "files_m = [f for f in os.listdir('M_NumberPlate/') if f.endswith('txt')]"
   ]
  },
  {
   "cell_type": "code",
   "execution_count": 64,
   "id": "foster-presence",
   "metadata": {},
   "outputs": [],
   "source": [
    "for f in files_m:\n",
    "    with open('M_NumberPlate/'+f,'r') as file:\n",
    "        into = open('m_labels/'+f,'w')\n",
    "        for x in file.readlines():\n",
    "            modified = x.split()\n",
    "            modified[0] = '0'\n",
    "            modified = ' '.join(modified) + '\\n'\n",
    "            into.write(modified)\n",
    "        into.close()\n"
   ]
  },
  {
   "cell_type": "code",
   "execution_count": 47,
   "id": "completed-trustee",
   "metadata": {},
   "outputs": [],
   "source": [
    "temp = open('M_NumberPlate/m100_0_jpg.rf.f88fc14bf75ecf2371f349e526b262d5.txt','r')"
   ]
  },
  {
   "cell_type": "code",
   "execution_count": 48,
   "id": "pursuant-iceland",
   "metadata": {},
   "outputs": [],
   "source": [
    "text = temp.read()"
   ]
  },
  {
   "cell_type": "code",
   "execution_count": 42,
   "id": "documentary-hebrew",
   "metadata": {},
   "outputs": [],
   "source": [
    "import cv2"
   ]
  },
  {
   "cell_type": "code",
   "execution_count": 58,
   "id": "religious-craft",
   "metadata": {},
   "outputs": [],
   "source": [
    "x,y,w,h = [int(float(x) * 416) for x in text.split()[1:]]"
   ]
  },
  {
   "cell_type": "code",
   "execution_count": 62,
   "id": "typical-russian",
   "metadata": {},
   "outputs": [],
   "source": [
    "w = w//2\n",
    "h = h//2"
   ]
  },
  {
   "cell_type": "code",
   "execution_count": 57,
   "id": "optimum-gambling",
   "metadata": {},
   "outputs": [
    {
     "data": {
      "text/plain": [
       "(416, 416, 3)"
      ]
     },
     "execution_count": 57,
     "metadata": {},
     "output_type": "execute_result"
    }
   ],
   "source": [
    "img = cv2.imread('M_NumberPlate/m100_0_jpg.rf.f88fc14bf75ecf2371f349e526b262d5.jpg')\n",
    "\n",
    "img.shape"
   ]
  },
  {
   "cell_type": "code",
   "execution_count": 63,
   "id": "essential-shower",
   "metadata": {},
   "outputs": [],
   "source": [
    "img = cv2.imread('M_NumberPlate/m100_0_jpg.rf.f88fc14bf75ecf2371f349e526b262d5.jpg')\n",
    "cv2.rectangle(img,(x-w,y-h),(x+w,y+h),(255,0,0),3)\n",
    "cv2.imshow(\"Temp\",img)\n",
    "cv2.waitKey()\n",
    "cv2.destroyAllWindows()"
   ]
  },
  {
   "cell_type": "code",
   "execution_count": 50,
   "id": "indonesian-jerusalem",
   "metadata": {},
   "outputs": [
    {
     "data": {
      "text/plain": [
       "[0.2620192307692308,\n",
       " 0.7704326923076923,\n",
       " 0.20793269230769232,\n",
       " 0.11778846153846154]"
      ]
     },
     "execution_count": 50,
     "metadata": {},
     "output_type": "execute_result"
    }
   ],
   "source": [
    "[float(x) for x in text.split()[1:]]"
   ]
  },
  {
   "cell_type": "code",
   "execution_count": null,
   "id": "communist-technique",
   "metadata": {},
   "outputs": [],
   "source": []
  }
 ],
 "metadata": {
  "kernelspec": {
   "display_name": "Python 3",
   "language": "python",
   "name": "python3"
  },
  "language_info": {
   "codemirror_mode": {
    "name": "ipython",
    "version": 3
   },
   "file_extension": ".py",
   "mimetype": "text/x-python",
   "name": "python",
   "nbconvert_exporter": "python",
   "pygments_lexer": "ipython3",
   "version": "3.8.3"
  }
 },
 "nbformat": 4,
 "nbformat_minor": 5
}
