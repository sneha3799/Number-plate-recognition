{
 "cells": [
  {
   "cell_type": "code",
   "execution_count": 1,
   "metadata": {},
   "outputs": [],
   "source": [
    "from PIL import Image\n",
    "import pytesseract\n",
    "import cv2"
   ]
  },
  {
   "cell_type": "code",
   "execution_count": 29,
   "metadata": {},
   "outputs": [],
   "source": [
    "pytesseract.pytesseract.tesseract_cmd = \"C:\\\\Program Files\\\\Tesseract-OCR\\\\tesseract.exe\""
   ]
  },
  {
   "cell_type": "code",
   "execution_count": 37,
   "metadata": {},
   "outputs": [],
   "source": [
    "img = cv2.imread('pic.jpg')"
   ]
  },
  {
   "cell_type": "code",
   "execution_count": 38,
   "metadata": {},
   "outputs": [
    {
     "name": "stdout",
     "output_type": "stream",
     "text": [
      "'- ननज्भबनमगमवाा पा 4... पानी\n",
      "ना (८\n",
      "नल 2५\n",
      "र 6 लि नस्यिस्ने कल श्रौ,\n",
      "ः््द्द ट्् थ्न्क\n",
      "िननननननननवनववननननननननन  _.\n",
      "\f",
      "\n"
     ]
    },
    {
     "data": {
      "text/plain": [
       "-1"
      ]
     },
     "execution_count": 38,
     "metadata": {},
     "output_type": "execute_result"
    }
   ],
   "source": [
    "gray = cv2.cvtColor(img,cv2.COLOR_BGR2GRAY)\n",
    "canny_edge = cv2.Canny(gray,170,200)\n",
    "\n",
    "contours,new = cv2.findContours(canny_edge.copy(),cv2.RETR_LIST,cv2.CHAIN_APPROX_SIMPLE)\n",
    "contours = sorted(contours,key=cv2.contourArea,reverse=True)[:30]\n",
    "\n",
    "contours_with_license_plate = None\n",
    "license_plate = None\n",
    "x = None\n",
    "y = None\n",
    "w = None\n",
    "h = None\n",
    "\n",
    "for contour in contours:\n",
    "    perimeter = cv2.arcLength(contour,True)\n",
    "    approx = cv2.approxPolyDP(contour,0.01*perimeter,True)\n",
    "    if len(approx) == 4:\n",
    "        contours_with_license_plate = approx\n",
    "        x,y,w,h = cv2.boundingRect(contour)\n",
    "        license_plate = gray[y:y+h,x:x+w]\n",
    "        break\n",
    "        \n",
    "\n",
    "data = pytesseract.image_to_string(img, lang='hin',config='--psm 6')\n",
    "print(data)\n",
    "\n",
    "cv2.imshow('result', img)\n",
    "cv2.waitKey()"
   ]
  },
  {
   "cell_type": "code",
   "execution_count": null,
   "metadata": {},
   "outputs": [],
   "source": []
  }
 ],
 "metadata": {
  "kernelspec": {
   "display_name": "Python 3",
   "language": "python",
   "name": "python3"
  },
  "language_info": {
   "codemirror_mode": {
    "name": "ipython",
    "version": 3
   },
   "file_extension": ".py",
   "mimetype": "text/x-python",
   "name": "python",
   "nbconvert_exporter": "python",
   "pygments_lexer": "ipython3",
   "version": "3.7.4"
  }
 },
 "nbformat": 4,
 "nbformat_minor": 2
}
